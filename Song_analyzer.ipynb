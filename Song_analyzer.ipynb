{
  "nbformat": 4,
  "nbformat_minor": 0,
  "metadata": {
    "colab": {
      "name": "Song analyzer",
      "version": "0.3.2",
      "provenance": [],
      "include_colab_link": true
    },
    "kernelspec": {
      "name": "python3",
      "display_name": "Python 3"
    }
  },
  "cells": [
    {
      "cell_type": "markdown",
      "metadata": {
        "id": "view-in-github",
        "colab_type": "text"
      },
      "source": [
        "<a href=\"https://colab.research.google.com/github/waltgarcia/IGBM/blob/master/Song_analyzer.ipynb\" target=\"_parent\"><img src=\"https://colab.research.google.com/assets/colab-badge.svg\" alt=\"Open In Colab\"/></a>"
      ]
    },
    {
      "metadata": {
        "id": "sP5SxxOQpUKQ",
        "colab_type": "code",
        "colab": {
          "base_uri": "https://localhost:8080/",
          "height": 175
        },
        "outputId": "60cc1bdc-f6c2-4b18-a432-1c5b070e3d41"
      },
      "cell_type": "code",
      "source": [
        "!pip install bs4"
      ],
      "execution_count": 25,
      "outputs": [
        {
          "output_type": "stream",
          "text": [
            "Collecting bs4\n",
            "  Downloading https://files.pythonhosted.org/packages/10/ed/7e8b97591f6f456174139ec089c769f89a94a1a4025fe967691de971f314/bs4-0.0.1.tar.gz\n",
            "Requirement already satisfied: beautifulsoup4 in /usr/local/lib/python3.6/dist-packages (from bs4) (4.6.3)\n",
            "Building wheels for collected packages: bs4\n",
            "  Running setup.py bdist_wheel for bs4 ... \u001b[?25l-\b \bdone\n",
            "\u001b[?25h  Stored in directory: /root/.cache/pip/wheels/a0/b0/b2/4f80b9456b87abedbc0bf2d52235414c3467d8889be38dd472\n",
            "Successfully built bs4\n",
            "Installing collected packages: bs4\n",
            "Successfully installed bs4-0.0.1\n"
          ],
          "name": "stdout"
        }
      ]
    },
    {
      "metadata": {
        "id": "533fuAE3pYgu",
        "colab_type": "code",
        "colab": {
          "base_uri": "https://localhost:8080/",
          "height": 140
        },
        "outputId": "db7fc172-1f2e-4cb9-f9b6-4efa6e077dbb"
      },
      "cell_type": "code",
      "source": [
        "import bs4 as bs\n",
        "!pip install textblob"
      ],
      "execution_count": 26,
      "outputs": [
        {
          "output_type": "stream",
          "text": [
            "Collecting textblob\n",
            "\u001b[?25l  Downloading https://files.pythonhosted.org/packages/11/18/7f55c8be6d68ddc4036ffda5382ca51e23a1075987f708b9123712091af1/textblob-0.15.1-py2.py3-none-any.whl (631kB)\n",
            "\u001b[K    100% |████████████████████████████████| 634kB 8.2MB/s \n",
            "\u001b[?25hRequirement already satisfied: nltk>=3.1 in /usr/local/lib/python3.6/dist-packages (from textblob) (3.2.5)\n",
            "Requirement already satisfied: six in /usr/local/lib/python3.6/dist-packages (from nltk>=3.1->textblob) (1.11.0)\n",
            "Installing collected packages: textblob\n",
            "Successfully installed textblob-0.15.1\n"
          ],
          "name": "stdout"
        }
      ]
    },
    {
      "metadata": {
        "id": "fJAaywc7pf2I",
        "colab_type": "code",
        "colab": {}
      },
      "cell_type": "code",
      "source": [
        "from textblob import TextBlob"
      ],
      "execution_count": 0,
      "outputs": []
    },
    {
      "metadata": {
        "id": "pfbe7hrm-JWh",
        "colab_type": "code",
        "colab": {}
      },
      "cell_type": "code",
      "source": [
        "wiki = TextBlob(\"I have paid my dues, Time after time, I have done my sentence, But committed no crime, And bad mistakes, I have made a few, I have had my share of sand kicked in my face, But I have come through, We are the champions, my friends, And we will keep on fighting until the end, We are the champions, We are the champions, No time for losers, because we are the champions of the world, I have taken my bows, And my curtain calls, You brought me fame and fortune and everything that goes with it, I thank you all, But it is been no bed of roses, No pleasure cruise, I consider it a challenge before the whole human race, And I will not gonna lose, We are the champions, my friends, And we will keep on fighting until the end, We are the champions, We are the champions, No time for losers, because we are the champions of the world, We are the champions, my friends, And we will keep on fighting until the end, We are the champions, We are the champions, No time for losers, because we are the champions\")"
      ],
      "execution_count": 0,
      "outputs": []
    },
    {
      "metadata": {
        "id": "tE8LNfVa-pjo",
        "colab_type": "code",
        "colab": {
          "base_uri": "https://localhost:8080/",
          "height": 105
        },
        "outputId": "7b8b816c-fda5-41ec-d68a-f859ca49e24d"
      },
      "cell_type": "code",
      "source": [
        "!pip install nltk\n",
        "import nltk\n",
        "nltk.download('punkt')"
      ],
      "execution_count": 29,
      "outputs": [
        {
          "output_type": "stream",
          "text": [
            "Requirement already satisfied: nltk in /usr/local/lib/python3.6/dist-packages (3.2.5)\n",
            "Requirement already satisfied: six in /usr/local/lib/python3.6/dist-packages (from nltk) (1.11.0)\n",
            "[nltk_data] Downloading package punkt to /root/nltk_data...\n",
            "[nltk_data]   Unzipping tokenizers/punkt.zip.\n"
          ],
          "name": "stdout"
        },
        {
          "output_type": "execute_result",
          "data": {
            "text/plain": [
              "True"
            ]
          },
          "metadata": {
            "tags": []
          },
          "execution_count": 29
        }
      ]
    },
    {
      "metadata": {
        "id": "ehCxNzf2-vgR",
        "colab_type": "code",
        "colab": {
          "base_uri": "https://localhost:8080/",
          "height": 87
        },
        "outputId": "433cb2c2-947b-477f-ca44-cf05d2cbb688"
      },
      "cell_type": "code",
      "source": [
        "import nltk\n",
        "nltk.download('averaged_perceptron_tagger')"
      ],
      "execution_count": 30,
      "outputs": [
        {
          "output_type": "stream",
          "text": [
            "[nltk_data] Downloading package averaged_perceptron_tagger to\n",
            "[nltk_data]     /root/nltk_data...\n",
            "[nltk_data]   Unzipping taggers/averaged_perceptron_tagger.zip.\n"
          ],
          "name": "stdout"
        },
        {
          "output_type": "execute_result",
          "data": {
            "text/plain": [
              "True"
            ]
          },
          "metadata": {
            "tags": []
          },
          "execution_count": 30
        }
      ]
    },
    {
      "metadata": {
        "id": "DYtLyLNg-7NY",
        "colab_type": "code",
        "colab": {
          "base_uri": "https://localhost:8080/",
          "height": 3466
        },
        "outputId": "88e2a5b9-017a-45e7-92f0-a2a3062a6d40"
      },
      "cell_type": "code",
      "source": [
        "wiki.tags"
      ],
      "execution_count": 31,
      "outputs": [
        {
          "output_type": "execute_result",
          "data": {
            "text/plain": [
              "[('I', 'PRP'),\n",
              " ('have', 'VBP'),\n",
              " ('paid', 'VBN'),\n",
              " ('my', 'PRP$'),\n",
              " ('dues', 'NNS'),\n",
              " ('Time', 'NNP'),\n",
              " ('after', 'IN'),\n",
              " ('time', 'NN'),\n",
              " ('I', 'PRP'),\n",
              " ('have', 'VBP'),\n",
              " ('done', 'VBN'),\n",
              " ('my', 'PRP$'),\n",
              " ('sentence', 'NN'),\n",
              " ('But', 'CC'),\n",
              " ('committed', 'VBD'),\n",
              " ('no', 'DT'),\n",
              " ('crime', 'NN'),\n",
              " ('And', 'CC'),\n",
              " ('bad', 'JJ'),\n",
              " ('mistakes', 'NNS'),\n",
              " ('I', 'PRP'),\n",
              " ('have', 'VBP'),\n",
              " ('made', 'VBN'),\n",
              " ('a', 'DT'),\n",
              " ('few', 'JJ'),\n",
              " ('I', 'PRP'),\n",
              " ('have', 'VBP'),\n",
              " ('had', 'VBN'),\n",
              " ('my', 'PRP$'),\n",
              " ('share', 'NN'),\n",
              " ('of', 'IN'),\n",
              " ('sand', 'NN'),\n",
              " ('kicked', 'VBN'),\n",
              " ('in', 'IN'),\n",
              " ('my', 'PRP$'),\n",
              " ('face', 'NN'),\n",
              " ('But', 'CC'),\n",
              " ('I', 'PRP'),\n",
              " ('have', 'VBP'),\n",
              " ('come', 'VBN'),\n",
              " ('through', 'IN'),\n",
              " ('We', 'PRP'),\n",
              " ('are', 'VBP'),\n",
              " ('the', 'DT'),\n",
              " ('champions', 'NNS'),\n",
              " ('my', 'PRP$'),\n",
              " ('friends', 'NNS'),\n",
              " ('And', 'CC'),\n",
              " ('we', 'PRP'),\n",
              " ('will', 'MD'),\n",
              " ('keep', 'VB'),\n",
              " ('on', 'IN'),\n",
              " ('fighting', 'VBG'),\n",
              " ('until', 'IN'),\n",
              " ('the', 'DT'),\n",
              " ('end', 'NN'),\n",
              " ('We', 'PRP'),\n",
              " ('are', 'VBP'),\n",
              " ('the', 'DT'),\n",
              " ('champions', 'NNS'),\n",
              " ('We', 'PRP'),\n",
              " ('are', 'VBP'),\n",
              " ('the', 'DT'),\n",
              " ('champions', 'NNS'),\n",
              " ('No', 'DT'),\n",
              " ('time', 'NN'),\n",
              " ('for', 'IN'),\n",
              " ('losers', 'NNS'),\n",
              " ('because', 'IN'),\n",
              " ('we', 'PRP'),\n",
              " ('are', 'VBP'),\n",
              " ('the', 'DT'),\n",
              " ('champions', 'NNS'),\n",
              " ('of', 'IN'),\n",
              " ('the', 'DT'),\n",
              " ('world', 'NN'),\n",
              " ('I', 'PRP'),\n",
              " ('have', 'VBP'),\n",
              " ('taken', 'VBN'),\n",
              " ('my', 'PRP$'),\n",
              " ('bows', 'NNS'),\n",
              " ('And', 'CC'),\n",
              " ('my', 'PRP$'),\n",
              " ('curtain', 'NN'),\n",
              " ('calls', 'VBZ'),\n",
              " ('You', 'PRP'),\n",
              " ('brought', 'VBD'),\n",
              " ('me', 'PRP'),\n",
              " ('fame', 'NN'),\n",
              " ('and', 'CC'),\n",
              " ('fortune', 'NN'),\n",
              " ('and', 'CC'),\n",
              " ('everything', 'NN'),\n",
              " ('that', 'WDT'),\n",
              " ('goes', 'VBZ'),\n",
              " ('with', 'IN'),\n",
              " ('it', 'PRP'),\n",
              " ('I', 'PRP'),\n",
              " ('thank', 'VBP'),\n",
              " ('you', 'PRP'),\n",
              " ('all', 'DT'),\n",
              " ('But', 'CC'),\n",
              " ('it', 'PRP'),\n",
              " ('is', 'VBZ'),\n",
              " ('been', 'VBN'),\n",
              " ('no', 'DT'),\n",
              " ('bed', 'NN'),\n",
              " ('of', 'IN'),\n",
              " ('roses', 'NNS'),\n",
              " ('No', 'DT'),\n",
              " ('pleasure', 'NN'),\n",
              " ('cruise', 'NN'),\n",
              " ('I', 'PRP'),\n",
              " ('consider', 'VBP'),\n",
              " ('it', 'PRP'),\n",
              " ('a', 'DT'),\n",
              " ('challenge', 'NN'),\n",
              " ('before', 'IN'),\n",
              " ('the', 'DT'),\n",
              " ('whole', 'JJ'),\n",
              " ('human', 'JJ'),\n",
              " ('race', 'NN'),\n",
              " ('And', 'CC'),\n",
              " ('I', 'PRP'),\n",
              " ('will', 'MD'),\n",
              " ('not', 'RB'),\n",
              " ('gon', 'VB'),\n",
              " ('na', 'TO'),\n",
              " ('lose', 'VB'),\n",
              " ('We', 'PRP'),\n",
              " ('are', 'VBP'),\n",
              " ('the', 'DT'),\n",
              " ('champions', 'NNS'),\n",
              " ('my', 'PRP$'),\n",
              " ('friends', 'NNS'),\n",
              " ('And', 'CC'),\n",
              " ('we', 'PRP'),\n",
              " ('will', 'MD'),\n",
              " ('keep', 'VB'),\n",
              " ('on', 'IN'),\n",
              " ('fighting', 'VBG'),\n",
              " ('until', 'IN'),\n",
              " ('the', 'DT'),\n",
              " ('end', 'NN'),\n",
              " ('We', 'PRP'),\n",
              " ('are', 'VBP'),\n",
              " ('the', 'DT'),\n",
              " ('champions', 'NNS'),\n",
              " ('We', 'PRP'),\n",
              " ('are', 'VBP'),\n",
              " ('the', 'DT'),\n",
              " ('champions', 'NNS'),\n",
              " ('No', 'DT'),\n",
              " ('time', 'NN'),\n",
              " ('for', 'IN'),\n",
              " ('losers', 'NNS'),\n",
              " ('because', 'IN'),\n",
              " ('we', 'PRP'),\n",
              " ('are', 'VBP'),\n",
              " ('the', 'DT'),\n",
              " ('champions', 'NNS'),\n",
              " ('of', 'IN'),\n",
              " ('the', 'DT'),\n",
              " ('world', 'NN'),\n",
              " ('We', 'PRP'),\n",
              " ('are', 'VBP'),\n",
              " ('the', 'DT'),\n",
              " ('champions', 'NNS'),\n",
              " ('my', 'PRP$'),\n",
              " ('friends', 'NNS'),\n",
              " ('And', 'CC'),\n",
              " ('we', 'PRP'),\n",
              " ('will', 'MD'),\n",
              " ('keep', 'VB'),\n",
              " ('on', 'IN'),\n",
              " ('fighting', 'VBG'),\n",
              " ('until', 'IN'),\n",
              " ('the', 'DT'),\n",
              " ('end', 'NN'),\n",
              " ('We', 'PRP'),\n",
              " ('are', 'VBP'),\n",
              " ('the', 'DT'),\n",
              " ('champions', 'NNS'),\n",
              " ('We', 'PRP'),\n",
              " ('are', 'VBP'),\n",
              " ('the', 'DT'),\n",
              " ('champions', 'NNS'),\n",
              " ('No', 'DT'),\n",
              " ('time', 'NN'),\n",
              " ('for', 'IN'),\n",
              " ('losers', 'NNS'),\n",
              " ('because', 'IN'),\n",
              " ('we', 'PRP'),\n",
              " ('are', 'VBP'),\n",
              " ('the', 'DT'),\n",
              " ('champions', 'NNS')]"
            ]
          },
          "metadata": {
            "tags": []
          },
          "execution_count": 31
        }
      ]
    },
    {
      "metadata": {
        "id": "VZ9N2n3p_B9Y",
        "colab_type": "code",
        "colab": {
          "base_uri": "https://localhost:8080/",
          "height": 54
        },
        "outputId": "7dddb7dd-77e3-49f5-f804-76241f509123"
      },
      "cell_type": "code",
      "source": [
        "wiki.words"
      ],
      "execution_count": 32,
      "outputs": [
        {
          "output_type": "execute_result",
          "data": {
            "text/plain": [
              "WordList(['I', 'have', 'paid', 'my', 'dues', 'Time', 'after', 'time', 'I', 'have', 'done', 'my', 'sentence', 'But', 'committed', 'no', 'crime', 'And', 'bad', 'mistakes', 'I', 'have', 'made', 'a', 'few', 'I', 'have', 'had', 'my', 'share', 'of', 'sand', 'kicked', 'in', 'my', 'face', 'But', 'I', 'have', 'come', 'through', 'We', 'are', 'the', 'champions', 'my', 'friends', 'And', 'we', 'will', 'keep', 'on', 'fighting', 'until', 'the', 'end', 'We', 'are', 'the', 'champions', 'We', 'are', 'the', 'champions', 'No', 'time', 'for', 'losers', 'because', 'we', 'are', 'the', 'champions', 'of', 'the', 'world', 'I', 'have', 'taken', 'my', 'bows', 'And', 'my', 'curtain', 'calls', 'You', 'brought', 'me', 'fame', 'and', 'fortune', 'and', 'everything', 'that', 'goes', 'with', 'it', 'I', 'thank', 'you', 'all', 'But', 'it', 'is', 'been', 'no', 'bed', 'of', 'roses', 'No', 'pleasure', 'cruise', 'I', 'consider', 'it', 'a', 'challenge', 'before', 'the', 'whole', 'human', 'race', 'And', 'I', 'will', 'not', 'gon', 'na', 'lose', 'We', 'are', 'the', 'champions', 'my', 'friends', 'And', 'we', 'will', 'keep', 'on', 'fighting', 'until', 'the', 'end', 'We', 'are', 'the', 'champions', 'We', 'are', 'the', 'champions', 'No', 'time', 'for', 'losers', 'because', 'we', 'are', 'the', 'champions', 'of', 'the', 'world', 'We', 'are', 'the', 'champions', 'my', 'friends', 'And', 'we', 'will', 'keep', 'on', 'fighting', 'until', 'the', 'end', 'We', 'are', 'the', 'champions', 'We', 'are', 'the', 'champions', 'No', 'time', 'for', 'losers', 'because', 'we', 'are', 'the', 'champions'])"
            ]
          },
          "metadata": {
            "tags": []
          },
          "execution_count": 32
        }
      ]
    },
    {
      "metadata": {
        "id": "tQ91W0ym_GDk",
        "colab_type": "code",
        "colab": {
          "base_uri": "https://localhost:8080/",
          "height": 34
        },
        "outputId": "21b4f091-a682-4b6b-d2be-dc80dba7519c"
      },
      "cell_type": "code",
      "source": [
        "calif = str(wiki.sentiment.polarity)\n",
        "title = str(\"The name of the song is What a wonderful world and its score is: \")\n",
        "print (title + calif)"
      ],
      "execution_count": 48,
      "outputs": [
        {
          "output_type": "stream",
          "text": [
            "The name of the song is What a wonderful world and its score is: -0.1857142857142857\n"
          ],
          "name": "stdout"
        }
      ]
    }
  ]
}